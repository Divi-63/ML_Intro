{
  "nbformat": 4,
  "nbformat_minor": 0,
  "metadata": {
    "colab": {
      "provenance": []
    },
    "kernelspec": {
      "name": "python3",
      "display_name": "Python 3"
    },
    "language_info": {
      "name": "python"
    }
  },
  "cells": [
    {
      "cell_type": "markdown",
      "source": [
        "**Machine Learning Intro | Assignment**"
      ],
      "metadata": {
        "id": "8o2W8Atam8IU"
      }
    },
    {
      "cell_type": "markdown",
      "source": [
        "Question 1: Explain the differences between AI, ML, Deep Learning (DL), and Data Science (DS).\n",
        "\n",
        "- Artificial Intelligence (AI): AI is the broad field of creating machines or systems that can perform tasks that typically require human intelligence, such as decision-making, problem-solving, understanding natural language, and recognizing patterns. It encompasses many subfields, including machine learning and robotics.\n",
        "\n",
        "- Machine Learning (ML): ML is a subset of AI that focuses on enabling computers to learn from data and improve from experience without being explicitly programmed. It uses algorithms to identify patterns in data and make predictions or decisions. Examples include supervised learning, unsupervised learning, and reinforcement learning.\n",
        "\n",
        "- Deep Learning (DL): DL is a further subset of ML that uses neural networks with many layers (hence \"deep\"). It excels at learning from large amounts of unstructured data like images, audio, and text. Deep learning models are capable of feature extraction automatically and have achieved state-of-the-art results in tasks like image recognition, natural language processing, etc.\n",
        "\n",
        "- Data Science (DS): Data Science is a multidisciplinary field that uses scientific methods, algorithms, and systems to extract knowledge and insights from structured and unstructured data. It involves data cleaning, analysis, visualization, and interpretation. It’s broader than AI and ML because it includes understanding and preparing data for analysis, not just creating models."
      ],
      "metadata": {
        "id": "BnpDhVz2m_BY"
      }
    },
    {
      "cell_type": "markdown",
      "source": [
        "Question 2: What are the types of machine learning? Describe each with one real-world example.\n",
        "\n",
        " - There are three main types of machine learning:\n",
        "\n",
        "- Supervised Learning:\n",
        "\n",
        "- In supervised learning, the model is trained on labeled data, where both the input features and the corresponding output labels are provided.\n",
        "\n",
        "- Example: Predicting house prices based on features like square footage, number of bedrooms, etc. The labels (house prices) are known in advance.\n",
        "\n",
        "- Unsupervised Learning:\n",
        "\n",
        "- In unsupervised learning, the model is trained on data without labeled output. The goal is to find hidden patterns or structure in the data.\n",
        "\n",
        "- Example: Customer segmentation for targeted marketing, where customers are grouped into different clusters based on purchasing behavior without predefined categories.\n",
        "\n",
        "- Reinforcement Learning:\n",
        "\n",
        "- In reinforcement learning, an agent interacts with an environment and learns by receiving feedback in the form of rewards or penalties.\n",
        "\n",
        "- Example: Training an AI to play a video game like chess or Go, where the AI learns optimal moves by exploring the game’s possible actions and outcomes."
      ],
      "metadata": {
        "id": "xrflieLinCSL"
      }
    },
    {
      "cell_type": "markdown",
      "source": [
        "Question 3: Define overfitting, underfitting, and the bias-variance tradeoff in machine learning.\n",
        "\n",
        "- Overfitting: Overfitting occurs when a model learns not only the underlying patterns but also the noise or random fluctuations in the training data. This results in poor generalization to new, unseen data. It typically happens when the model is too complex for the dataset.\n",
        "Example: A decision tree that fits every data point perfectly but performs poorly on test data.\n",
        "\n",
        "- Underfitting: Underfitting occurs when the model is too simple to capture the underlying patterns in the data. It leads to poor performance on both the training and testing sets.\n",
        "Example: A linear regression model trying to fit a non-linear dataset.\n",
        "\n",
        "- Bias-Variance Tradeoff: The bias-variance tradeoff describes the relationship between model complexity and generalization error.\n",
        "\n",
        "- Bias refers to the error introduced by simplifying assumptions in the model (e.g., linear assumptions for a non-linear problem).\n",
        "\n",
        "- Variance refers to the error introduced by the model's sensitivity to small fluctuations in the training data.\n",
        "\n",
        "- The tradeoff is that as you reduce bias (by increasing model complexity), variance increases, and vice versa. The goal is to find the right balance for optimal performance."
      ],
      "metadata": {
        "id": "Je69Pa5BnEjF"
      }
    },
    {
      "cell_type": "markdown",
      "source": [
        "Question 4: What are outliers in a dataset, and list three common techniques for handling them.\n",
        "\n",
        "- Outliers: Outliers are data points that are significantly different from the rest of the data. They can distort statistical analyses and affect model performance. Outliers can be due to errors, variability in data, or rare events.\n",
        "\n",
        "- Techniques for Handling Outliers:\n",
        "\n",
        "- Remove Outliers: Simply remove the outlier data points from the dataset if they are determined to be errors or irrelevant.\n",
        "\n",
        "- Imputation: Replace the outlier values with a more reasonable estimate (e.g., mean, median, or mode) based on the rest of the data.\n",
        "\n",
        "- Transformation: Apply mathematical transformations (e.g., logarithmic or square root) to reduce the impact of outliers by compressing the scale of large values."
      ],
      "metadata": {
        "id": "vyOtMuR_nGg7"
      }
    },
    {
      "cell_type": "code",
      "source": [
        "#Question 6: Write a Python program that creates a synthetic imbalanced dataset with make_classification() from sklearn.datasets. Prints the class distribution.\n",
        "from sklearn.datasets import make_classification\n",
        "from collections import Counter\n",
        "\n",
        "# Create synthetic imbalanced dataset\n",
        "X, y = make_classification(\n",
        "    n_samples=1000,\n",
        "    n_features=10,\n",
        "    n_informative=2,\n",
        "    n_redundant=0,\n",
        "    n_clusters_per_class=1,\n",
        "    weights=[0.9, 0.1],\n",
        "    random_state=42\n",
        ")\n",
        "\n",
        "# Convert labels to Python ints and print class distribution\n",
        "class_distribution = Counter(int(label) for label in y)\n",
        "print(\"Class distribution:\", class_distribution)\n",
        "\n",
        "\n"
      ],
      "metadata": {
        "colab": {
          "base_uri": "https://localhost:8080/"
        },
        "id": "7mgNAg02nJaE",
        "outputId": "33cee8b6-2d2d-4cf1-db08-814b22b4e755"
      },
      "execution_count": 7,
      "outputs": [
        {
          "output_type": "stream",
          "name": "stdout",
          "text": [
            "Class distribution: Counter({0: 895, 1: 105})\n"
          ]
        }
      ]
    },
    {
      "cell_type": "code",
      "source": [
        "#Question 7: Implement one-hot encoding using pandas for the following list of colors: ['Red', 'Green', 'Blue', 'Green', 'Red']. Print the resulting dataframe.\n",
        "import pandas as pd\n",
        "\n",
        "# List of colors\n",
        "colors = ['Red', 'Green', 'Blue', 'Green', 'Red']\n",
        "\n",
        "# Create a pandas DataFrame\n",
        "df = pd.DataFrame(colors, columns=['Color'])\n",
        "\n",
        "# Perform one-hot encoding\n",
        "one_hot_encoded = pd.get_dummies(df['Color'])\n",
        "\n",
        "# Print the resulting dataframe\n",
        "print(one_hot_encoded)\n"
      ],
      "metadata": {
        "colab": {
          "base_uri": "https://localhost:8080/"
        },
        "id": "738zw1nPnO4u",
        "outputId": "e8e0858b-5ff9-4ac8-ab4f-663928869fc0"
      },
      "execution_count": 2,
      "outputs": [
        {
          "output_type": "stream",
          "name": "stdout",
          "text": [
            "    Blue  Green    Red\n",
            "0  False  False   True\n",
            "1  False   True  False\n",
            "2   True  False  False\n",
            "3  False   True  False\n",
            "4  False  False   True\n"
          ]
        }
      ]
    },
    {
      "cell_type": "code",
      "source": [
        "#Question 8: Write a Python script to generate 1000 samples from a normal distribution, introduce 50 random missing values, fill missing values with the column mean, and plot a histogram before and after imputation.\n",
        "import numpy as np\n",
        "import pandas as pd\n",
        "import matplotlib.pyplot as plt\n",
        "\n",
        "# Generate 1000 samples from a normal distribution\n",
        "data = np.random.normal(loc=0, scale=1, size=1000)\n",
        "\n",
        "# Introduce 50 random missing values\n",
        "missing_indices = np.random.choice(1000, 50, replace=False)\n",
        "data[missing_indices] = np.nan\n",
        "\n",
        "# Plot histogram before imputation\n",
        "plt.figure(figsize=(12, 6))\n",
        "plt.subplot(1, 2, 1)\n",
        "plt.hist(data, bins=30, color='blue', alpha=0.7)\n",
        "plt.title('Histogram Before Imputation')\n",
        "\n",
        "# Fill missing values with the column mean\n",
        "mean_value = np.nanmean(data)\n",
        "data_imputed = np.where(np.isnan(data), mean_value, data)\n",
        "\n",
        "# Plot histogram after imputation\n",
        "plt.subplot(1, 2, 2)\n",
        "plt.hist(data_imputed, bins=30, color='green', alpha=0.7)\n",
        "plt.title('Histogram After Imputation')\n",
        "\n",
        "plt.tight_layout()\n",
        "plt.show()\n"
      ],
      "metadata": {
        "colab": {
          "base_uri": "https://localhost:8080/",
          "height": 607
        },
        "id": "8-rrOWtmnTSh",
        "outputId": "d9d0862d-bd7f-4cb1-8366-2627bd608e97"
      },
      "execution_count": 3,
      "outputs": [
        {
          "output_type": "display_data",
          "data": {
            "text/plain": [
              "<Figure size 1200x600 with 2 Axes>"
            ],
            "image/png": "[encoded data removed]"
          },
          "metadata": {}
        }
      ]
    },
    {
      "cell_type": "code",
      "source": [
        "#Question 9: Implement Min-Max scaling on the following list of numbers [2, 5, 10, 15, 20] using sklearn.preprocessing.MinMaxScaler. Print the scaled array.\n",
        "from sklearn.preprocessing import MinMaxScaler\n",
        "import numpy as np\n",
        "\n",
        "# List of numbers\n",
        "data = np.array([2, 5, 10, 15, 20]).reshape(-1, 1)\n",
        "\n",
        "# Initialize the MinMaxScaler\n",
        "scaler = MinMaxScaler()\n",
        "\n",
        "# Scale the data\n",
        "scaled_data = scaler.fit_transform(data)\n",
        "\n",
        "# Print the scaled array\n",
        "print(scaled_data)\n"
      ],
      "metadata": {
        "colab": {
          "base_uri": "https://localhost:8080/"
        },
        "id": "Ab15W9cWnVUz",
        "outputId": "e0937a98-67fe-4439-8797-bd1b3a68779e"
      },
      "execution_count": 4,
      "outputs": [
        {
          "output_type": "stream",
          "name": "stdout",
          "text": [
            "[[0.        ]\n",
            " [0.16666667]\n",
            " [0.44444444]\n",
            " [0.72222222]\n",
            " [1.        ]]\n"
          ]
        }
      ]
    },
    {
      "cell_type": "code",
      "source": [
        "# #Question 10: You are working as a data scientist for a retail company. You receive a customer\n",
        "# transaction dataset that contains:\n",
        "# ● Missing ages,\n",
        "# ● Outliers in transaction amount,\n",
        "# ● A highly imbalanced target (fraud vs. non-fraud),\n",
        "# ● Categorical variables like payment method.\n",
        "# Explain the step-by-step data preparation plan you’d follow before training a machine learning\n",
        "# model. Include how you’d address missing data, outliers, imbalance, and encoding.\n",
        "# (Include your Python code and output in the code box below.)\n",
        "# Answer:What does this below code wiull do :\n",
        "# Inspect & Understand Data – Check for missing values, outliers, class imbalance, and categorical features.\n",
        "\n",
        "# Handle Missing Ages – Use median imputation (robust to skew).\n",
        "\n",
        "# Detect & Cap Outliers – Use the IQR method to cap extreme transaction amounts.\n",
        "\n",
        "# Encode Categorical Variables – Apply One-Hot Encoding to payment_method.\n",
        "\n",
        "# Scale Features – Use RobustScaler for numeric features.\n",
        "\n",
        "# Address Imbalanced Target – Use SMOTE to balance fraud vs. non-fraud classes.\n",
        "\n",
        "# Split Data – Stratified train/test split to preserve class distribution.\n",
        "# === DATA PREPARATION PIPELINE ===\n",
        "import numpy as np\n",
        "import pandas as pd\n",
        "from collections import Counter\n",
        "from sklearn.model_selection import train_test_split\n",
        "from sklearn.impute import SimpleImputer\n",
        "from sklearn.preprocessing import OneHotEncoder, RobustScaler\n",
        "from sklearn.compose import ColumnTransformer\n",
        "from sklearn.pipeline import Pipeline\n",
        "from imblearn.over_sampling import SMOTE\n",
        "\n",
        "# -------------------- 1. Create synthetic dataset --------------------\n",
        "np.random.seed(42)\n",
        "n = 1000\n",
        "# Transaction amounts with outliers\n",
        "transaction_amount = np.random.exponential(scale=50, size=n) + 5\n",
        "outlier_idx = np.random.choice(n, size=10, replace=False)\n",
        "transaction_amount[outlier_idx] *= 200  # add extreme outliers\n",
        "\n",
        "# Ages with missing values\n",
        "age = np.random.randint(18, 70, size=n).astype(float)\n",
        "age[np.random.choice(n, size=150, replace=False)] = np.nan  # 15% missing\n",
        "\n",
        "# Payment method and target\n",
        "payment_method = np.random.choice(['card', 'mobile', 'cash', 'upi'], size=n, p=[0.5,0.2,0.2,0.1])\n",
        "is_fraud = np.random.choice([0,1], size=n, p=[0.95,0.05])  # Imbalanced\n",
        "\n",
        "df = pd.DataFrame({\n",
        "    'age': age,\n",
        "    'transaction_amount': transaction_amount,\n",
        "    'payment_method': payment_method,\n",
        "    'is_fraud': is_fraud\n",
        "})\n",
        "\n",
        "print(\"Initial fraud distribution:\", Counter(df['is_fraud']))\n",
        "print(\"Missing ages:\", df['age'].isna().sum())\n",
        "\n",
        "# -------------------- 2. Cap outliers --------------------\n",
        "Q1, Q3 = df['transaction_amount'].quantile([0.25, 0.75])\n",
        "IQR = Q3 - Q1\n",
        "lower, upper = Q1 - 1.5*IQR, Q3 + 1.5*IQR\n",
        "df['transaction_amount_capped'] = df['transaction_amount'].clip(lower, upper)\n",
        "\n",
        "# -------------------- 3. Train/Test Split --------------------\n",
        "X = df[['age','transaction_amount_capped','payment_method']]\n",
        "y = df['is_fraud']\n",
        "X_train, X_test, y_train, y_test = train_test_split(\n",
        "    X, y, stratify=y, test_size=0.2, random_state=42\n",
        ")\n",
        "\n",
        "# -------------------- 4. Preprocessing Pipelines --------------------\n",
        "numeric_features = ['age','transaction_amount_capped']\n",
        "numeric_transformer = Pipeline([\n",
        "    ('imputer', SimpleImputer(strategy='median')),\n",
        "    ('scaler', RobustScaler())\n",
        "])\n",
        "\n",
        "categorical_features = ['payment_method']\n",
        "categorical_transformer = Pipeline([\n",
        "    ('imputer', SimpleImputer(strategy='constant', fill_value='missing')),\n",
        "    ('onehot', OneHotEncoder(handle_unknown='ignore'))\n",
        "])\n",
        "\n",
        "preprocessor = ColumnTransformer([\n",
        "    ('num', numeric_transformer, numeric_features),\n",
        "    ('cat', categorical_transformer, categorical_features)\n",
        "])\n",
        "\n",
        "# Fit and transform\n",
        "X_train_prep = preprocessor.fit_transform(X_train)\n",
        "X_test_prep = preprocessor.transform(X_test)\n",
        "\n",
        "print(\"Processed feature shape:\", X_train_prep.shape)\n",
        "\n",
        "# -------------------- 5. Handle Class Imbalance with SMOTE --------------------\n",
        "smote = SMOTE(random_state=42)\n",
        "X_resampled, y_resampled = smote.fit_resample(X_train_prep, y_train)\n",
        "\n",
        "print(\"Before resampling:\", Counter(y_train))\n",
        "print(\"After resampling:\", Counter(y_resampled))\n",
        "\n",
        "# -------------------- 6. Show Processed Sample --------------------\n",
        "cat_cols = preprocessor.named_transformers_['cat'].named_steps['onehot'].get_feature_names_out(categorical_features)\n",
        "columns = numeric_features + list(cat_cols)\n",
        "print(\"\\nSample of processed & balanced data:\")\n",
        "print(pd.DataFrame(X_resampled, columns=columns).head())"
      ],
      "metadata": {
        "colab": {
          "base_uri": "https://localhost:8080/"
        },
        "id": "BblbmIlsng2x",
        "outputId": "a262eede-d4a0-459d-b2b1-f3107e372b82"
      },
      "execution_count": 11,
      "outputs": [
        {
          "output_type": "stream",
          "name": "stdout",
          "text": [
            "Initial fraud distribution: Counter({0: 958, 1: 42})\n",
            "Missing ages: 150\n",
            "Processed feature shape: (800, 6)\n",
            "Before resampling: Counter({0: 766, 1: 34})\n",
            "After resampling: Counter({0: 766, 1: 766})\n",
            "\n",
            "Sample of processed & balanced data:\n",
            "        age  transaction_amount_capped  payment_method_card  \\\n",
            "0  0.000000                   1.124566                  1.0   \n",
            "1  1.095238                   1.276541                  1.0   \n",
            "2  0.095238                   2.146198                  1.0   \n",
            "3  0.904762                   0.700915                  1.0   \n",
            "4  0.857143                  -0.539648                  0.0   \n",
            "\n",
            "   payment_method_cash  payment_method_mobile  payment_method_upi  \n",
            "0                  0.0                    0.0                 0.0  \n",
            "1                  0.0                    0.0                 0.0  \n",
            "2                  0.0                    0.0                 0.0  \n",
            "3                  0.0                    0.0                 0.0  \n",
            "4                  0.0                    1.0                 0.0  \n"
          ]
        }
      ]
    }
  ]
}